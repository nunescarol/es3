{
  "nbformat": 4,
  "nbformat_minor": 2,
  "metadata": {
    "colab": {
      "name": "Aula 01.ipynb",
      "provenance": [],
      "collapsed_sections": []
    },
    "kernelspec": {
      "name": "python3",
      "display_name": "Python 3"
    },
    "language_info": {
      "name": "python"
    }
  },
  "cells": [
    {
      "cell_type": "markdown",
      "source": [
        "## Nosso primeiro código\n",
        "\n",
        "Para iniciarmos, vamos fazer nosso primeiro código em Python.\n",
        "\n",
        "Vamos utilizar o 'print' para mostrar em tela a mensagem 'hello word' ,vamos escrever, e irá nos retornar em tela o que escrevemos.\n"
      ],
      "metadata": {
        "id": "gLZ83pnDq1lr"
      }
    },
    {
      "cell_type": "code",
      "execution_count": 2,
      "source": [
        "print('Hello word')"
      ],
      "outputs": [
        {
          "output_type": "stream",
          "name": "stdout",
          "text": [
            "Hello word\n"
          ]
        }
      ],
      "metadata": {
        "colab": {
          "base_uri": "https://localhost:8080/"
        },
        "id": "8Cu1w6_2q3ae",
        "outputId": "83080a84-1bec-4d91-b048-0b624be0ba0a"
      }
    },
    {
      "cell_type": "markdown",
      "source": [
        "### Comentários"
      ],
      "metadata": {
        "id": "7kOfcPTQ039x"
      }
    },
    {
      "cell_type": "markdown",
      "source": [
        "Vamos aprender como é possível colocar comentários no código. Quando qualquer código estiver comentado não sera executado a parte comentada."
      ],
      "metadata": {
        "id": "5Ag4LP2FsA8U"
      }
    },
    {
      "cell_type": "code",
      "execution_count": null,
      "source": [
        "# comentário de uma única linha\n",
        "\n",
        "'''\n",
        "Comentários que\n",
        "necessitam\n",
        "estar em mais de uma linha.\n",
        "'''"
      ],
      "outputs": [],
      "metadata": {
        "id": "RIKtBthb1inm"
      }
    },
    {
      "cell_type": "markdown",
      "source": [
        "### Variáveis\n",
        "\n",
        "É o recurso utilizado para que seja armazenado valores em memória, ela nos ajuda a gravar e ler dados com maior facilidade a partir do nome escolhido. Os tipos comuns de variáveis são:\n",
        "\n",
        "### Inteiro\n",
        "É um tipo que contém caracteres numéricos inteiros.\n",
        "Exempo: 21, 4, 0, -2014\n",
        " \n",
        " \n",
        " \n",
        " \n",
        " "
      ],
      "metadata": {
        "id": "fVL36lCk2j4F"
      }
    },
    {
      "cell_type": "code",
      "execution_count": null,
      "source": [
        "idade = 18\n",
        "ano = 2012\n",
        "\n",
        "print(type(idade)) #saída: <class 'int'>\n",
        "print(type(ano)) #saída: <class 'int'>"
      ],
      "outputs": [],
      "metadata": {
        "id": "lAZrzpYQO18O"
      }
    },
    {
      "cell_type": "code",
      "execution_count": null,
      "source": [],
      "outputs": [],
      "metadata": {
        "id": "Xdrd4dAnOUNd"
      }
    },
    {
      "cell_type": "markdown",
      "source": [
        "#### Ponto Flutuante\n",
        "É um tipo de caractere numérico decimal.\n",
        "\n"
      ],
      "metadata": {
        "id": "UP-t1MEhPHAi"
      }
    },
    {
      "cell_type": "code",
      "execution_count": null,
      "source": [
        "altura = 1.90\n",
        "peso = 80.55\n",
        "\n",
        "print(type(altura)) #saída: <class 'float'>\n"
      ],
      "outputs": [],
      "metadata": {
        "id": "MKh-CfYOPTAb"
      }
    },
    {
      "cell_type": "markdown",
      "source": [
        "#### Complex\n",
        "É um tipo de dado usado para representar números complexos\n"
      ],
      "metadata": {
        "id": "zVy60RnWPge4"
      }
    },
    {
      "cell_type": "code",
      "execution_count": null,
      "source": [
        "a = 5+2j\n",
        "\n",
        "print(type(a)) #saída: <class 'complex'>"
      ],
      "outputs": [],
      "metadata": {
        "id": "VUjeiKl8PdXD"
      }
    },
    {
      "cell_type": "markdown",
      "source": [
        "#### String\n",
        "É um conjunto de caracteres, geralmente são palavras, frases ou textos.\n"
      ],
      "metadata": {
        "id": "w1_8-5q5P1zI"
      }
    },
    {
      "cell_type": "code",
      "execution_count": null,
      "source": [
        "nome = 'Francisco da viola'\n",
        "cidade = 'Cachoeirinha da capivara'\n",
        "\n",
        "print(type(cidade)) #saída: <class 'str'>"
      ],
      "outputs": [],
      "metadata": {
        "id": "qf1EQxJOQAvn"
      }
    },
    {
      "cell_type": "markdown",
      "source": [
        "#### Boolean\n",
        "\n",
        "Tipo de dado que pode receber dois valores, ou verdadeiro ou falso.\n"
      ],
      "metadata": {
        "id": "cZ8lDkIMQbHp"
      }
    },
    {
      "cell_type": "code",
      "execution_count": null,
      "source": [
        "cansado = True\n",
        "\n",
        "print(type(cansado)) #saída: <class 'bool'>"
      ],
      "outputs": [],
      "metadata": {
        "id": "G-ZZjbXLQjly"
      }
    },
    {
      "cell_type": "markdown",
      "source": [
        "#### Listas\n",
        "É um tipo de dado onde podem ser agrupados um conjuto de dados de qualquer das formas anteriores.\n",
        "\n"
      ],
      "metadata": {
        "id": "uPP36TE-QtaE"
      }
    },
    {
      "cell_type": "code",
      "execution_count": null,
      "source": [
        "alunos = ['Edwildson', 'Jorge', 'Cagol', 'Samuel']\n",
        "notas = [2.0, 3.0, 4.0, 8.0]\n",
        "\n",
        "print(type(alunos)) #saída: <class 'list'>\n",
        "print(type(notas))  #saída: <class 'list'>"
      ],
      "outputs": [],
      "metadata": {
        "id": "4FFYM7u7Q5ta"
      }
    },
    {
      "cell_type": "markdown",
      "source": [
        "#### Tuplas\n",
        "\n",
        "É um tipo de dados que a única coisa que se diferencia da lista é que são imutáveis após serem definidas e usam parenteses, não é possível realizar alterações.\n",
        "\n"
      ],
      "metadata": {
        "id": "GKJqzE8iRbRm"
      }
    },
    {
      "cell_type": "code",
      "execution_count": null,
      "source": [
        "alunos = ('Edwildson', 'Jorge', 'Cagol', 'Samuel')\n",
        "notas = (2.0, 3.0, 4.0, 8.0)\n",
        "\n",
        "print(type(alunos)) #saída: <class 'tuple'>"
      ],
      "outputs": [],
      "metadata": {
        "id": "Iy4_OUeMRtgW"
      }
    },
    {
      "cell_type": "markdown",
      "source": [
        "Dicionário\n",
        "\n",
        "É um tipo de dados em que é possível agregar valor através de chave e valor."
      ],
      "metadata": {
        "id": "JsnhUI_xSGyO"
      }
    },
    {
      "cell_type": "code",
      "execution_count": null,
      "source": [
        "altura = {'Edwildson': 1.87, 'Jorge': 1.79, 'Cagol': 1.65, 'Samuel': 1.77}\n",
        "print(type(altura)) #saída: <class 'dict'>\n"
      ],
      "outputs": [],
      "metadata": {
        "id": "VOtxeISTSn-G"
      }
    },
    {
      "cell_type": "markdown",
      "source": [
        "## Mudar o tipo de variável\n",
        "\n",
        "Em algumas ocasiões é necessário modificar o tipo de variável, também conhecido como cast.\n",
        "\n",
        "#### Float para String"
      ],
      "metadata": {}
    },
    {
      "cell_type": "code",
      "execution_count": null,
      "source": [
        "altura = 1.80\n",
        "print(type(altura)) # saida: <class 'float'>\n",
        "\n",
        "altura = str(altura)\n",
        "print(type(altura)) #saida: <class 'str'>"
      ],
      "outputs": [],
      "metadata": {}
    },
    {
      "cell_type": "markdown",
      "source": [
        "#### Inteiro para Float"
      ],
      "metadata": {}
    },
    {
      "cell_type": "code",
      "execution_count": null,
      "source": [
        "idade = 16\n",
        "print(type(idade)) # saida: <class 'int'>\n",
        "\n",
        "idade = float(idade)\n",
        "print(type(idade)) #saida: <class 'float'>"
      ],
      "outputs": [],
      "metadata": {}
    },
    {
      "cell_type": "markdown",
      "source": [
        "#### Booleano para Inteiro"
      ],
      "metadata": {}
    },
    {
      "cell_type": "code",
      "execution_count": null,
      "source": [
        "domingo = True\n",
        "print(type(domingo)) # saida: <class 'bool'>\n",
        "\n",
        "domingo = int(domingo)\n",
        "print(type(domingo)) #saida: <class 'int'>"
      ],
      "outputs": [],
      "metadata": {}
    }
  ]
}