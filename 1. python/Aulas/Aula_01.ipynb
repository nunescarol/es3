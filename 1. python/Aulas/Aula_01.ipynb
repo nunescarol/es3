{
  "nbformat": 4,
  "nbformat_minor": 0,
  "metadata": {
    "colab": {
      "name": "Aula 01.ipynb",
      "provenance": [],
      "collapsed_sections": []
    },
    "kernelspec": {
      "name": "python3",
      "display_name": "Python 3"
    },
    "language_info": {
      "name": "python"
    }
  },
  "cells": [
    {
      "cell_type": "markdown",
      "metadata": {
        "id": "gLZ83pnDq1lr"
      },
      "source": [
        "##Nosso primeiro código\n",
        "\n",
        "Para iniciarmos, vamos fazer nosso primeiro código em Python.\n",
        "\n",
        "Vamos utilizar o 'print' para mostrar em tela a mensagem 'hello word' ,vamos escrever, e irá nos retornar em tela o que escrevemos.\n"
      ]
    },
    {
      "cell_type": "code",
      "metadata": {
        "colab": {
          "base_uri": "https://localhost:8080/"
        },
        "id": "8Cu1w6_2q3ae",
        "outputId": "83080a84-1bec-4d91-b048-0b624be0ba0a"
      },
      "source": [
        "print('Hello word')"
      ],
      "execution_count": 2,
      "outputs": [
        {
          "output_type": "stream",
          "name": "stdout",
          "text": [
            "Hello word\n"
          ]
        }
      ]
    },
    {
      "cell_type": "markdown",
      "metadata": {
        "id": "7kOfcPTQ039x"
      },
      "source": [
        "###Comentários"
      ]
    },
    {
      "cell_type": "markdown",
      "metadata": {
        "id": "5Ag4LP2FsA8U"
      },
      "source": [
        "Vamos aprender como é possível colocar comentários no código. Quando qualquer código estiver comentado não sera executado a parte comentada."
      ]
    },
    {
      "cell_type": "code",
      "metadata": {
        "id": "RIKtBthb1inm"
      },
      "source": [
        "# comentário de uma única linha\n",
        "\n",
        "'''\n",
        "Comentários que\n",
        "necessitam\n",
        "estar em mais de uma linha.\n",
        "'''"
      ],
      "execution_count": null,
      "outputs": []
    },
    {
      "cell_type": "markdown",
      "metadata": {
        "id": "fVL36lCk2j4F"
      },
      "source": [
        "###Variáveis\n",
        "\n",
        "É o recurso utilizado para que seja armazenado valores em memória, ela nos ajuda a gravar e ler dados com maior facilidade a partir do nome escolhido. Os tipos comuns de variáveis são:\n",
        "\n",
        "###Inteiro\n",
        "É um tipo que contém caracteres numéricos inteiros.\n",
        "Exempo: 21, 4, 0, -2014\n",
        " \n",
        " \n",
        " \n",
        " \n",
        " "
      ]
    },
    {
      "cell_type": "code",
      "metadata": {
        "id": "lAZrzpYQO18O"
      },
      "source": [
        "idade = 18\n",
        "ano = 2012\n",
        "\n",
        "print(type(idade)) #saída: <class 'int'>\n",
        "print(type(ano)) #saída: <class 'int'>"
      ],
      "execution_count": null,
      "outputs": []
    },
    {
      "cell_type": "code",
      "metadata": {
        "id": "Xdrd4dAnOUNd"
      },
      "source": [
        ""
      ],
      "execution_count": null,
      "outputs": []
    },
    {
      "cell_type": "markdown",
      "metadata": {
        "id": "UP-t1MEhPHAi"
      },
      "source": [
        "#### Ponto Flutuante\n",
        "É um tipo de caractere numérico decimal.\n",
        "\n"
      ]
    },
    {
      "cell_type": "code",
      "metadata": {
        "id": "MKh-CfYOPTAb"
      },
      "source": [
        "altura = 1.90\n",
        "peso = 80.55\n",
        "\n",
        "print(type(altura)) #saída: <class 'float'>\n"
      ],
      "execution_count": null,
      "outputs": []
    },
    {
      "cell_type": "markdown",
      "metadata": {
        "id": "zVy60RnWPge4"
      },
      "source": [
        "#### Complex\n",
        "É um tipo de dado usado para representar números complexos\n"
      ]
    },
    {
      "cell_type": "code",
      "metadata": {
        "id": "VUjeiKl8PdXD"
      },
      "source": [
        "a = 5+2j\n",
        "\n",
        "print(type(a)) #saída: <class 'complex'>"
      ],
      "execution_count": null,
      "outputs": []
    },
    {
      "cell_type": "markdown",
      "metadata": {
        "id": "w1_8-5q5P1zI"
      },
      "source": [
        "#### String\n",
        "É um conjunto de caracteres, geralmente são palavras, frases ou textos.\n"
      ]
    },
    {
      "cell_type": "code",
      "metadata": {
        "id": "qf1EQxJOQAvn"
      },
      "source": [
        "nome = 'Francisco da viola'\n",
        "cidade = 'Cachoeirinha da capivara'\n",
        "\n",
        "print(type(cidade)) #saída: <class 'str'>"
      ],
      "execution_count": null,
      "outputs": []
    },
    {
      "cell_type": "markdown",
      "metadata": {
        "id": "cZ8lDkIMQbHp"
      },
      "source": [
        "####Boolean\n",
        "\n",
        "Tipo de dado que pode receber dois valores, ou verdadeiro ou falso.\n"
      ]
    },
    {
      "cell_type": "code",
      "metadata": {
        "id": "G-ZZjbXLQjly"
      },
      "source": [
        "cansado = True\n",
        "\n",
        "print(type(cansado)) #saída: <class 'bool'>"
      ],
      "execution_count": null,
      "outputs": []
    },
    {
      "cell_type": "markdown",
      "metadata": {
        "id": "uPP36TE-QtaE"
      },
      "source": [
        "####Listas\n",
        "É um tipo de dado onde podem ser agrupados um conjuto de dados de qualquer das formas anteriores.\n",
        "\n"
      ]
    },
    {
      "cell_type": "code",
      "metadata": {
        "id": "4FFYM7u7Q5ta"
      },
      "source": [
        "alunos = ['Edwildson', 'Jorge', 'Cagol', 'Samuel']\n",
        "notas = [2.0, 3.0, 4.0, 8.0]\n",
        "\n",
        "print(type(alunos)) #saída: <class 'list'>\n",
        "print(type(notas))  #saída: <class 'list'>"
      ],
      "execution_count": null,
      "outputs": []
    },
    {
      "cell_type": "markdown",
      "metadata": {
        "id": "GKJqzE8iRbRm"
      },
      "source": [
        "####Tuplas\n",
        "\n",
        "É um tipo de dados que a única coisa que se diferencia da lista é que são imutáveis após serem definidas e usam parenteses, não é possível realizar alterações.\n",
        "\n"
      ]
    },
    {
      "cell_type": "code",
      "metadata": {
        "id": "Iy4_OUeMRtgW"
      },
      "source": [
        "alunos = ('Edwildson', 'Jorge', 'Cagol', 'Samuel')\n",
        "notas = (2.0, 3.0, 4.0, 8.0)\n",
        "\n",
        "print(type(alunos)) #saída: <class 'tuple'>"
      ],
      "execution_count": null,
      "outputs": []
    },
    {
      "cell_type": "markdown",
      "metadata": {
        "id": "JsnhUI_xSGyO"
      },
      "source": [
        "Dicionário\n",
        "\n",
        "É um tipo de dados em que é possível agregar valor através de chave e valor."
      ]
    },
    {
      "cell_type": "code",
      "metadata": {
        "id": "VOtxeISTSn-G"
      },
      "source": [
        "altura = {'Edwildson': 1.87, 'Jorge': 1.79, 'Cagol': 1.65, 'Samuel': 1.77}\n",
        "print(type(altura)) #saída: <class 'dict'>\n"
      ],
      "execution_count": null,
      "outputs": []
    }
  ]
}