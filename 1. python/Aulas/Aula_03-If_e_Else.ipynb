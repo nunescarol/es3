{
 "cells": [
  {
   "cell_type": "markdown",
   "id": "183230ed",
   "metadata": {},
   "source": [
    "# If e Else\n",
    "\n",
    "A estrutura do If e Else é bastante simples, contudo, no python, há uma peculiaridade ao utilizar essa estrutura condicional. Essa peculiaridade se trata da palavra reservada \"elif\", que é utilizada quando há um aninhamento de diversas condições aplicadas. \n",
    "Além disso, não é necessário o uso de parenteses. Abaixo, pode-se ver exemplos da utilização do if, else e elif:\n"
   ]
  },
  {
   "cell_type": "code",
   "execution_count": 1,
   "id": "7900fcfa",
   "metadata": {},
   "outputs": [
    {
     "name": "stdout",
     "output_type": "stream",
     "text": [
      "As strings são iguais\n"
     ]
    }
   ],
   "source": [
    "#Exemplo 1: Apenas uma condição\n",
    "\n",
    "a = \"Teste 1\"\n",
    "b = \"Teste 1\"\n",
    "\n",
    "if a == b:\n",
    "  print(\"As strings são iguais\")\n",
    "else:\n",
    "  print(\"As strings são diferentes\")"
   ]
  },
  {
   "cell_type": "code",
   "execution_count": 2,
   "id": "1606d3b8",
   "metadata": {},
   "outputs": [
    {
     "name": "stdout",
     "output_type": "stream",
     "text": [
      "As strings são iguais\n"
     ]
    }
   ],
   "source": [
    "#Exemplo 2: Mais de uma condição\n",
    "\n",
    "a = \"Teste 1\"\n",
    "b = \"Teste 1\"\n",
    "\n",
    "if a == b:\n",
    "  print(\"As strings são iguais\")\n",
    "elif len(a) > 4:  # Através da função len(), podemos verificar o tamanho da string armazenada em a\n",
    "  print(\"A string armazenada na variável a possui tamanho maior que 4 caracteres\")\n",
    "else:\n",
    "  print(\"As strings não são iguais e a string em a é menor ou igual a 4 caracteres\")"
   ]
  }
 ],
 "metadata": {
  "kernelspec": {
   "display_name": "Python 3 (ipykernel)",
   "language": "python",
   "name": "python3"
  },
  "language_info": {
   "codemirror_mode": {
    "name": "ipython",
    "version": 3
   },
   "file_extension": ".py",
   "mimetype": "text/x-python",
   "name": "python",
   "nbconvert_exporter": "python",
   "pygments_lexer": "ipython3",
   "version": "3.9.6"
  }
 },
 "nbformat": 4,
 "nbformat_minor": 5
}
