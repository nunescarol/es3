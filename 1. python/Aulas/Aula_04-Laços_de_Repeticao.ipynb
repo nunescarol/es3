{
 "cells": [
  {
   "cell_type": "markdown",
   "id": "74b4cb32",
   "metadata": {},
   "source": [
    "# Laços de Repetição\n",
    "Vamos agora iniciar um estudo sobre os Laços de Repetição na linguagem Python, seguindo a ordem e conteúdos apresentados abaixo:\n",
    "1. While\n",
    "2. Continue e Break\n",
    "3. For\n",
    "4. Função range()"
   ]
  },
  {
   "cell_type": "markdown",
   "id": "83d6ab77",
   "metadata": {},
   "source": [
    "## While\n",
    "A forma de utilizar o While em Python é bem simples e intuitiva, sendo, também, bastante semelhante a outras linguagens de programação. À seguir, iremos verificar como utilizá-lo e alguns exemplos:\n",
    "\n",
    "\n",
    "\n",
    "```\n",
    "while condição:\n",
    "  operação 1\n",
    "  operação 2\n",
    "  .\n",
    "  .\n",
    "  .\n",
    "  operação n\n",
    "\n",
    "operação n+1 #Essa operação não será feita dentro do while\n",
    "```\n",
    "\n"
   ]
  },
  {
   "cell_type": "code",
   "execution_count": 1,
   "id": "2ce120ac",
   "metadata": {},
   "outputs": [
    {
     "name": "stdout",
     "output_type": "stream",
     "text": [
      "T\n",
      "e\n",
      "s\n",
      "t\n",
      "e\n"
     ]
    }
   ],
   "source": [
    "#Exemplo 1: Imprimir  uma string caractere por caractere\n",
    "palavra = \"Teste\"\n",
    "contador = 0\n",
    "tamanho_palavra = len(palavra)\n",
    "while contador < tamanho_palavra:\n",
    "  print(palavra[contador])\n",
    "  contador = contador + 1"
   ]
  },
  {
   "cell_type": "code",
   "execution_count": 2,
   "id": "52ab80ac",
   "metadata": {},
   "outputs": [
    {
     "name": "stdout",
     "output_type": "stream",
     "text": [
      "['A', ' ', 'j', 'a', 'n', 't', 'e', 's', 'v', 'b', 'o']\n"
     ]
    }
   ],
   "source": [
    "#Exemplo 2: Criando uma lista com os caracteres distintos existentes em uma string\n",
    "frase = \"A janta estava boa\"\n",
    "contador = 0\n",
    "lista = []\n",
    "tamanho_frase = len(frase)\n",
    "while contador < tamanho_frase:\n",
    "  if frase[contador] not in lista:\n",
    "    lista.append(frase[contador])\n",
    "  contador = contador + 1\n",
    "print(lista)"
   ]
  },
  {
   "cell_type": "markdown",
   "id": "2c871772",
   "metadata": {},
   "source": [
    "## Sobre as palavras reservada \"Continue\" e \"Break\"\n",
    "Caso seja necessário sair de um laço de repetição, podemos utilizar a palavra reservada \"break\", com ela não será executada mais nenhum comando daquele laço e o laço será encerrado.\n",
    "\n",
    "Caso seja necessário apenas \"pular\" uma repetição, podemos utilizar o comando \"continue\". Com ele, nenhuma instrução seguinte será executada, porém o laço de repetição continua.\n",
    "\n",
    "A seguir, podemos ver  exemplos da utilização desses comandos:\n"
   ]
  },
  {
   "cell_type": "code",
   "execution_count": 3,
   "id": "0b3cfa1c",
   "metadata": {},
   "outputs": [
    {
     "name": "stdout",
     "output_type": "stream",
     "text": [
      "0\n",
      "1\n",
      "2\n",
      "3\n",
      "4\n",
      "6\n",
      "7\n",
      "8\n",
      "9\n"
     ]
    }
   ],
   "source": [
    "#Exemplo de Utilização do \"continue\"\n",
    "numero_de_loops = 10\n",
    "contador = 0\n",
    "while contador < numero_de_loops:\n",
    "  if contador == 5:\n",
    "    contador+=1\n",
    "    continue\n",
    "  print(contador)\n",
    "  contador+=1"
   ]
  },
  {
   "cell_type": "code",
   "execution_count": 4,
   "id": "07405465",
   "metadata": {},
   "outputs": [
    {
     "name": "stdout",
     "output_type": "stream",
     "text": [
      "0\n",
      "1\n",
      "2\n",
      "3\n",
      "4\n"
     ]
    }
   ],
   "source": [
    "#Exemplo de Utilização do \"break\"\n",
    "numero_de_loops = 10\n",
    "contador = 0\n",
    "while contador < numero_de_loops:\n",
    "  if contador == 5:\n",
    "    contador+=1\n",
    "    break\n",
    "  print(contador)\n",
    "  contador+=1"
   ]
  },
  {
   "cell_type": "markdown",
   "id": "712b6d84",
   "metadata": {},
   "source": [
    "## For\n",
    "A utilização do laço de repetição \"for\" é bastante intuitiva no Python, com algum conhecimento em Inglês, é bastante perceptível a tradução ao pé da letra. A seguir, pode ser vista a estrutura básica do \"for\":\n",
    "\n",
    "\n",
    "\n",
    "```\n",
    "for item in estrutura_de_dado:\n",
    "  comando 1\n",
    "  comando 2\n",
    "  .\n",
    "  .\n",
    "  .\n",
    "  comando n\n",
    "\n",
    "comando n+1 #Não será executado no laço de repetição acima\n",
    "```\n",
    "Para facilitar a compreensão do for, nada melhor que um exemplo, que pode ser visto abaixo:\n"
   ]
  },
  {
   "cell_type": "code",
   "execution_count": 5,
   "id": "bff2f43a",
   "metadata": {},
   "outputs": [
    {
     "name": "stdout",
     "output_type": "stream",
     "text": [
      "4\n"
     ]
    }
   ],
   "source": [
    "# Exemplo 1: Verificando o tamanho de uma tupla\n",
    "\n",
    "tupla_a = [\"Python\",\"é\",\"bem\",\"legal\"]\n",
    "tamanho = 0\n",
    "for item in tupla_a:\n",
    "  tamanho += 1\n",
    "print(tamanho)"
   ]
  },
  {
   "cell_type": "markdown",
   "id": "55c13501",
   "metadata": {},
   "source": [
    "## Função range()\n",
    "A função range() é muito utilizada nos laços de repetição do tipo \"for\". Através dela se pode delimitar um intervalo numérico de números inteiros para ser percorrido pelo for, ou seja, podemos, por exemplo, delimitar que o loop ocorra 6 vezes, começando de 0 e indo até 5.\n",
    "\n",
    "No geral, a função range pode ter até 3 argumentos em várias situações diferentes.\n",
    "\n",
    "\n",
    "```\n",
    "range(fim)                      #O inicio não é especificado, iniciando portanto em 0, incremento padrão de 1\n",
    "range(inicio, fim)              #Inicio e fim são especificados, incremento padrão de 1\n",
    "range(inicio, fim, incremento)  #Todos os paramentros são especificados\n",
    "```\n",
    "\n",
    "\n",
    "\n",
    "Abaixo, veremos alguns exemplos da utilização da função range()."
   ]
  },
  {
   "cell_type": "code",
   "execution_count": 6,
   "id": "f476a85f",
   "metadata": {},
   "outputs": [
    {
     "name": "stdout",
     "output_type": "stream",
     "text": [
      "0\n",
      "1\n",
      "2\n",
      "3\n",
      "4\n"
     ]
    }
   ],
   "source": [
    "#Exemplo 1\n",
    "#O for repetirá 5 vezes, incrementando automáticamente, começando de 0 e indo até 4.\n",
    "for x in range(5):\n",
    "  print(x)"
   ]
  },
  {
   "cell_type": "code",
   "execution_count": 7,
   "id": "60290e2b",
   "metadata": {},
   "outputs": [
    {
     "name": "stdout",
     "output_type": "stream",
     "text": [
      "12\n",
      "13\n",
      "14\n"
     ]
    }
   ],
   "source": [
    "#Exemplo 2\n",
    "#O for repetirá 3 vezes, incrementando automáticamente, começando de 12 e indo até 15.\n",
    "for x in range(12,15):\n",
    "  print(x)"
   ]
  },
  {
   "cell_type": "code",
   "execution_count": 8,
   "id": "e204fdec",
   "metadata": {},
   "outputs": [
    {
     "name": "stdout",
     "output_type": "stream",
     "text": [
      "0\n",
      "2\n",
      "4\n",
      "6\n"
     ]
    }
   ],
   "source": [
    "#Exemplo 3\n",
    "#O for repetirá 4 vezes, com um incremento de 2, começando de 0 e indo até 6.\n",
    "for x in range(0,8,2):\n",
    "  print(x)"
   ]
  },
  {
   "cell_type": "markdown",
   "id": "ba49c243",
   "metadata": {},
   "source": [
    "A função range() também permite percorrer um determinado intervalo de forma decrescente, para isso, basta que o parametro do incremento tenha valor negativo.\n",
    "\n",
    "\n",
    "\n",
    "```\n",
    "range(inicio, fim, -incremento)\n",
    "```\n",
    "\n"
   ]
  },
  {
   "cell_type": "code",
   "execution_count": 9,
   "id": "750708fa",
   "metadata": {},
   "outputs": [
    {
     "name": "stdout",
     "output_type": "stream",
     "text": [
      "4\n",
      "2\n",
      "0\n",
      "-2\n"
     ]
    }
   ],
   "source": [
    "#Exemplo 4\n",
    "#O for repetirá 4 vezes, decrementando de 2 em 2, começando de 4 e indo até -2.\n",
    "for x in range(4,-4,-2):\n",
    "  print(x)"
   ]
  },
  {
   "cell_type": "code",
   "execution_count": 10,
   "id": "dd2d02c3",
   "metadata": {},
   "outputs": [
    {
     "name": "stdout",
     "output_type": "stream",
     "text": [
      "oãçatupmoC\n"
     ]
    }
   ],
   "source": [
    "#Exemplo 5: Imprimindo uma string ao contrário\n",
    "palavra= \"Computação\"\n",
    "palavra_invertida =\"\"\n",
    "tamanho_palavra = len(palavra)\n",
    "for letra in range(tamanho_palavra-1,-1,-1):\n",
    "  palavra_invertida = palavra_invertida + palavra[letra]\n",
    "\n",
    "print(palavra_invertida)"
   ]
  }
 ],
 "metadata": {
  "kernelspec": {
   "display_name": "Python 3 (ipykernel)",
   "language": "python",
   "name": "python3"
  },
  "language_info": {
   "codemirror_mode": {
    "name": "ipython",
    "version": 3
   },
   "file_extension": ".py",
   "mimetype": "text/x-python",
   "name": "python",
   "nbconvert_exporter": "python",
   "pygments_lexer": "ipython3",
   "version": "3.9.6"
  }
 },
 "nbformat": 4,
 "nbformat_minor": 5
}
