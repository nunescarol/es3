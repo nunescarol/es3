{
 "cells": [
  {
   "cell_type": "markdown",
   "id": "a7d8984c",
   "metadata": {},
   "source": [
    "# Funções\n",
    "\n",
    "Veremos agora um tópico muito importante na programação, trata-se das funções! Seguiremos um conteúdo sobre funções e seus exemplos de utilização, de acordo com a lista abaixo:\n",
    "1. Função Padrão\n",
    "2. Função Lambda"
   ]
  },
  {
   "cell_type": "markdown",
   "id": "f5e53726",
   "metadata": {},
   "source": [
    "## Função Padrão\n",
    "\n",
    "O modo padrão de criar uma função em Python é bem simples, diferentemente da criação de variáveis, é necessário utilizar a palavra reservada \"def\", seguindo uma estrutura padrão. Além disso, não é obrigatório que uma função dê um retorno e ela pode ou não possuir argumentos. Um exemplo em pseudocódigo é mostrado abaixo:\n",
    "\n",
    "Exemplo:\n",
    "```\n",
    "def minha_funcao(parametro_1, parametro_2, ... , parametro_n):\n",
    "  comando 1\n",
    "  comando 2\n",
    "  .\n",
    "  .\n",
    "  .\n",
    "  comando n\n",
    "  return alguma_coisa\n",
    "```\n",
    "\n",
    "Sendo assim, para realizar uma chamada dessa função, basta utilizar o nome dela:\n",
    "\n",
    "Exemplo:\n",
    "```\n",
    "if true:\n",
    "  minha_funcao(var_1, var_2, ... , var_n)\n",
    "```\n",
    "\n",
    "Vamos agora ver alguns exemplos funcionais do uso de funções."
   ]
  },
  {
   "cell_type": "code",
   "execution_count": 5,
   "id": "bb5579f0",
   "metadata": {},
   "outputs": [
    {
     "name": "stdout",
     "output_type": "stream",
     "text": [
      "Engenharia de Software 3\n"
     ]
    }
   ],
   "source": [
    "#Exemplo 1\n",
    "#Função para realizar a concatenação de duas strings\n",
    "def concat_strings(string1, string2):\n",
    "  return string1 + string2\n",
    "\n",
    "frase1= \"Engenharia de \"\n",
    "frase2= \"Software 3\"\n",
    "print(concat_strings(frase1,frase2))"
   ]
  },
  {
   "cell_type": "code",
   "execution_count": 6,
   "id": "1b161864",
   "metadata": {},
   "outputs": [
    {
     "name": "stdout",
     "output_type": "stream",
     "text": [
      "Engenharia de Computação\n"
     ]
    }
   ],
   "source": [
    "#Exemplo 2\n",
    "#Função para realizar a concatenação de duas strings e imprimir a nova string, sem return e sem parâmetros.\n",
    "def concat_strings():\n",
    "  print(frase1 + frase2) \n",
    "\n",
    "frase1= \"Engenharia de \"\n",
    "frase2= \"Computação\"\n",
    "concat_strings()"
   ]
  },
  {
   "cell_type": "markdown",
   "id": "9e902f4b",
   "metadata": {},
   "source": [
    "## Funções Lambda\n",
    "Esse tipo de função é bastante interessante, pois permite um leque de possibilidades ao programar utilizando-as. Funções lambda são chamadas também de funções anônimas.\n",
    "\n",
    "A estrutura das funções lambda se diferenciam das demais pois permitem apenas uma expressão, contudo, permitem um número qualquer de argumentos.\n",
    "\n",
    "Abaixo, podemos ver a estrutra de uma função lambda:\n",
    "\n",
    "\n",
    "```\n",
    "lambda argumentos : expressao\n",
    "```\n",
    "\n",
    "À partir disso, podemos criar uma função lambda e atribuir a uma variável, para que possamos utilizá-la depois. No fim a estrutura fica como mostrado abaixo:\n",
    "\n",
    "\n",
    "```\n",
    "variavel = lambda argumentos : expressao\n",
    "\n",
    "variavel(parametro)\n",
    "```\n",
    "\n",
    "Para facilitar o entedimento desse tipo específico de função, veremos códigos funcionais utilizando-as.\n",
    "\n"
   ]
  },
  {
   "cell_type": "code",
   "execution_count": 7,
   "id": "a51923d0",
   "metadata": {},
   "outputs": [
    {
     "name": "stdout",
     "output_type": "stream",
     "text": [
      "c\n"
     ]
    }
   ],
   "source": [
    "#Exemplo 1:\n",
    "#Função lambda que retorna o conteúdo de uma tupla/string no índice especificado\n",
    "retorna_item = lambda tupla,indice : tupla[indice]\n",
    "\n",
    "palavra = \"Teclado\"\n",
    "print(retorna_item(palavra,2))"
   ]
  },
  {
   "cell_type": "code",
   "execution_count": 8,
   "id": "f3dffc6e",
   "metadata": {},
   "outputs": [
    {
     "name": "stdout",
     "output_type": "stream",
     "text": [
      "É par: 0\n",
      "É par: 2\n",
      "É par: 4\n",
      "É par: 6\n",
      "É par: 8\n",
      "É par: 10\n",
      "É par: 12\n",
      "É par: 14\n",
      "É par: 16\n",
      "É par: 18\n",
      "É par: 20\n",
      "É par: 22\n",
      "É par: 24\n",
      "É par: 26\n",
      "É par: 28\n",
      "É par: 30\n",
      "É par: 32\n",
      "É par: 34\n",
      "É par: 36\n",
      "É par: 38\n",
      "É par: 40\n",
      "É par: 42\n",
      "É par: 44\n",
      "É par: 46\n",
      "É par: 48\n",
      "É par: 50\n",
      "É par: 52\n",
      "É par: 54\n",
      "É par: 56\n",
      "É par: 58\n",
      "É par: 60\n",
      "É par: 62\n",
      "É par: 64\n",
      "É par: 66\n",
      "É par: 68\n",
      "É par: 70\n",
      "É par: 72\n",
      "É par: 74\n",
      "É par: 76\n",
      "É par: 78\n",
      "É par: 80\n",
      "É par: 82\n",
      "É par: 84\n",
      "É par: 86\n",
      "É par: 88\n",
      "É par: 90\n",
      "É par: 92\n",
      "É par: 94\n",
      "É par: 96\n",
      "É par: 98\n"
     ]
    }
   ],
   "source": [
    "#Exemplo 2:\n",
    "#Função padrão para verificar um numero é par,  utilizando função lambda\n",
    "resto_divisao_por_2 = lambda numero : numero % 2\n",
    "\n",
    "def par_ou_impar(numero):\n",
    "  if not resto_divisao_por_2(numero):\n",
    "    print(\"É par:\",numero)\n",
    "\n",
    "#Verificando quais numeros sao pares no intervalo de 0 a 100\n",
    "for numero in range(100):\n",
    "  par_ou_impar(numero)"
   ]
  },
  {
   "cell_type": "markdown",
   "id": "2e5380a2",
   "metadata": {},
   "source": [
    "# Parabéns!\n",
    "\n",
    "Você chegou até essa etapa e com isso finalizou o minicurso sobre Python, aprendendo o básico sobre essa linguagem, conhecendo os fundamentos necessários para dar continuidade nos nossos conteúdos. À partir de agora, você está apto para a segunda parte  do minicurso, que aborda o framework Django."
   ]
  }
 ],
 "metadata": {
  "kernelspec": {
   "display_name": "Python 3 (ipykernel)",
   "language": "python",
   "name": "python3"
  },
  "language_info": {
   "codemirror_mode": {
    "name": "ipython",
    "version": 3
   },
   "file_extension": ".py",
   "mimetype": "text/x-python",
   "name": "python",
   "nbconvert_exporter": "python",
   "pygments_lexer": "ipython3",
   "version": "3.9.6"
  }
 },
 "nbformat": 4,
 "nbformat_minor": 5
}
