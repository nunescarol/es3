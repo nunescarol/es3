{
 "cells": [
  {
   "cell_type": "markdown",
   "id": "d9788fd7",
   "metadata": {},
   "source": [
    "# Operadores em Python\n",
    "Em Python, os operadores em geral são bastante semelhantes à demais linguagens de programação. A seguir, serão mostradas os tipos de operadores e como podem ser utilizados."
   ]
  },
  {
   "cell_type": "markdown",
   "id": "8c77dc3e",
   "metadata": {},
   "source": [
    "## Operadores de Comparação\n",
    "\n",
    "### Igualdade\n",
    "A igualdade do conteúdo entre duas variáveis pode ser verificada através do uso de dois simbolos de igualdade \"==\".\n",
    "\n",
    "\n",
    "\n",
    "```\n",
    "#Verificando a igualdade entre \"a\" e \"b\"\n",
    "\n",
    "      a == b\n",
    "```\n",
    "\n",
    "\n",
    "### Diferença\n",
    "De forma semelhante, pode-se verificar se os conteúdos das variáveis são distintos, através do símbolo \"!=\"\n",
    "\n",
    "\n",
    "\n",
    "```\n",
    "#Verificando a diferença entre \"a\" e \"b\"\n",
    "    a != b\n",
    "```\n",
    "\n",
    "\n",
    "\n",
    "### Maior  / Maior ou igual\n",
    "Pode-se verificar se uma variável possui um valor maior / maior ou igual que outra variável através do símbolo \">\" (maior) ou \">=\" (maior ou igual).\n",
    "\n",
    "\n",
    "\n",
    "```\n",
    "#Verificando se  \"a\" é maior que \"b\"\n",
    "      a > b\n",
    "      \n",
    "#Verificando se  \"a\" é maior ou igual que \"b\"\n",
    "      a >= b\n",
    "```\n",
    "\n",
    "\n",
    "### Menor / Menor ou igual\n",
    "De forma análoga, pode-se verificar se o conteúdo de uma variável é menor / menor igual a outra, através dos símbolos \"<\" ou \"<=\" respectivamente.\n",
    "\n",
    "\n",
    "\n",
    "```\n",
    "# Verificando se  \"a\" é menor que \"b\"\n",
    "      a < b\n",
    "\n",
    "# Verificando se  \"a\" é menor ou igual que \"b\"\n",
    "      a <= b\n",
    "```\n",
    "\n"
   ]
  },
  {
   "cell_type": "markdown",
   "id": "fe25ce24",
   "metadata": {},
   "source": [
    "## Operadores Aritméticos\n",
    "### Adição\n",
    "Adição entre duas variáveis\n",
    "\n",
    "```\n",
    "          a + b\n",
    "```\n",
    "\n",
    "### Subtração\n",
    "Subtração entre duas variáveis\n",
    "```\n",
    "          a - b\n",
    "```\n",
    "### Multiplicação\n",
    "Multiplicação entre duas variáveis\n",
    "```\n",
    "          a * b\n",
    "```\n",
    "### Divisão\n",
    "Divsião entre duas variáveis\n",
    "```\n",
    "          a / b\n",
    "```\n",
    "### Resto\n",
    "Resto de uma divisão por um número\n",
    "```\n",
    "          a % b   #Lê-se resto da divisão de a por b\n",
    "```\n",
    "### Exponenciação\n",
    "Exponenciação de uma variável\n",
    "```\n",
    "          a ** b  #Lê-se \"a\" elevado a \"b\"\n",
    "```"
   ]
  },
  {
   "cell_type": "markdown",
   "id": "d1bb426c",
   "metadata": {},
   "source": [
    "## Operadores de Atribuição\n",
    "À seguir, veremos uma lista dos operadores de atribuição mais utilizados e com exemplos de utilização.\n",
    "\n",
    "| Operador      | Exemplo          | Equivalente a    |\n",
    "|---------------|:----------------:|-----------------:|\n",
    "| =             | x = 10           |      x = 10      |\n",
    "| +=            | x += 10          |      x = x + 10  |\n",
    "| -=            |x -= 10           |      x = x - 10  |\n",
    "| *=            | x *= 10          |      x = x * 10  |\n",
    "| /=            | x /= 10          |      x = x / 10  |\n",
    "| %=            |x %= 10           |      x = x % 10  |\n",
    "| **=           | x**=10           |      x = x ** 10 |\n"
   ]
  },
  {
   "cell_type": "markdown",
   "id": "6e1a11c8",
   "metadata": {},
   "source": [
    "## Operadores Lógicos\n",
    "Em python os operadores lógicos possuem palavras reservadas específicas para o seu uso, diferente de outras linguagens que, por exemplo, utilizam símbolos como  && (and) ou || (or).\n",
    "\n",
    "Em python são utilizadas as seguintes palavras reservadas para as seguintes operações lógicas.\n",
    "\n",
    "### And\n",
    "Para verificar se as condições são verdadeiras\n",
    "\n",
    "\n",
    "```\n",
    "#Exemplo: Verificando se x é maior que 30 E é menor que 80\n",
    "x > 30 and x < 80\n",
    "```\n",
    "\n",
    "\n",
    "### Or\n",
    "Para verificar se pelo menos uma das condições são verdadeiras\n",
    "```\n",
    "#Exemplo: Verificando se x é maior que 30 OU é menor que 15\n",
    "x > 30 or x < 15\n",
    "```\n",
    "### Not\n",
    "Utilizado para negar uma condição, retornando o valor inverso\n",
    "```\n",
    "#Exemplo: Verificando se x NÃO É  maior que 30 OU é menor que 15\n",
    "not(x > 30 or x < 15)\n",
    "```\n"
   ]
  },
  {
   "cell_type": "markdown",
   "id": "1f23b5c6",
   "metadata": {},
   "source": [
    "## Operadores de Identidade\n",
    "Esse operadores são utilizados para verificar se algum objeto é igual a outro, mas não no sentido de conteúdo somente, mas também se eles estão apontando para o mesmo local da memória. Esses operadores são o \"is\" e \"is not\"\n",
    "\n",
    "Podemos exemplificar o uso desse operadores e compará-los com o operador de igualdade \"==\", mostrando que há diferenças.\n",
    "\n",
    "### Operador *is* e *is not*\n",
    "Criaremos três objetos e utilizaremos esses operadores sobre eles.\n",
    "\n"
   ]
  },
  {
   "cell_type": "code",
   "execution_count": 1,
   "id": "07c6158d",
   "metadata": {},
   "outputs": [
    {
     "name": "stdout",
     "output_type": "stream",
     "text": [
      "lista_1 possui mesmo conteúdo que lista_2? : True\n",
      "Objeto lista_1 é igual ao objeto lista_2, apontando para o mesmo local na memória?:  False\n",
      "Objeto lista_2 é igual ao objeto lista_3, apontando para o mesmo local na memória?:  True\n",
      "Objeto lista_2 é igual ao objeto lista_3, apontando para o mesmo local na memória?:  False\n"
     ]
    }
   ],
   "source": [
    "#Lista 1\n",
    "lista_1 = (\"item1\", \"item2\", \"item3\")\n",
    "lista_2 = (\"item1\",\"item2\",\"item3\")\n",
    "lista_3 = lista_2\n",
    "\n",
    "#Verificando se o conteúdo das listas são iguais\n",
    "print(\"lista_1 possui mesmo conteúdo que lista_2? :\",lista_1 == lista_2)\n",
    "\n",
    "#Verificando se o objeto lista_1 é igual ao objeto lista_2, apontando para o mesmo local na memoria\n",
    "print(\"Objeto lista_1 é igual ao objeto lista_2, apontando para o mesmo local na memória?: \", lista_1 is lista_2)\n",
    "\n",
    "#Verificando se o objeto lista_2 é igual ao objeto lista_3, apontando para o mesmo local na memoria\n",
    "print(\"Objeto lista_2 é igual ao objeto lista_3, apontando para o mesmo local na memória?: \",lista_2 is lista_3)\n",
    "\n",
    "#Verificando se o obejto lista_2 não é igual ao objeto lista_3\n",
    "print(\"Objeto lista_2 é igual ao objeto lista_3, apontando para o mesmo local na memória?: \",lista_2 is not lista_3)"
   ]
  },
  {
   "cell_type": "markdown",
   "id": "e5c9f760",
   "metadata": {},
   "source": [
    "## Operadores de Pertencimento\n",
    "Esse tipo de operador serve para verificar se algum valor específico  está contido em algum  objeto. É um operador que facilita bastante a verificação de que um número esteja em uma lista, por exemplo.\n",
    "\n"
   ]
  },
  {
   "cell_type": "code",
   "execution_count": 2,
   "id": "832c362b",
   "metadata": {},
   "outputs": [
    {
     "name": "stdout",
     "output_type": "stream",
     "text": [
      "True\n"
     ]
    }
   ],
   "source": [
    "numero = 20\n",
    "lista_de_numero = (1,2,3,4,5,10,20,30)\n",
    "print(numero in lista_de_numero) #Verifica se o numero 20 está na lista"
   ]
  },
  {
   "cell_type": "code",
   "execution_count": 3,
   "id": "18fecff4",
   "metadata": {},
   "outputs": [
    {
     "name": "stdout",
     "output_type": "stream",
     "text": [
      "True\n"
     ]
    }
   ],
   "source": [
    "numero = 50\n",
    "lista_de_numero = (1,2,3,4,5,10,20,30)\n",
    "print(numero not in lista_de_numero) #Verifica se o numero 50 não está na lista"
   ]
  },
  {
   "cell_type": "markdown",
   "id": "ea91fe25",
   "metadata": {},
   "source": [
    "## Operadores Bit a Bit\n",
    "Há também a disponibilidade de operadores bit a bit, bastante semelhante às demais linguagens de programação existentes.\n",
    "\n",
    "| Operador      | Significado                  |\n",
    "|---------------|:----------------------------:|\n",
    "| &             | AND                          |\n",
    "| \\|            | OR                           |\n",
    "| ^             | XOR                          |\n",
    "| ~             | NOT                          |\n",
    "| <<            | Deslocamento para esquerda   |\n",
    "| >>            | Deslocamento para a direita  |\n"
   ]
  }
 ],
 "metadata": {
  "kernelspec": {
   "display_name": "Python 3 (ipykernel)",
   "language": "python",
   "name": "python3"
  },
  "language_info": {
   "codemirror_mode": {
    "name": "ipython",
    "version": 3
   },
   "file_extension": ".py",
   "mimetype": "text/x-python",
   "name": "python",
   "nbconvert_exporter": "python",
   "pygments_lexer": "ipython3",
   "version": "3.9.6"
  }
 },
 "nbformat": 4,
 "nbformat_minor": 5
}
